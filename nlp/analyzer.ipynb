{
 "cells": [
  {
   "cell_type": "code",
   "execution_count": 1,
   "metadata": {},
   "outputs": [],
   "source": [
    "import math\n",
    "import sys\n",
    "import os\n",
    "import re"
   ]
  },
  {
   "cell_type": "code",
   "execution_count": 2,
   "metadata": {},
   "outputs": [],
   "source": [
    "from newsapi_utils import FetchNews, GetNewsApiClient, InstallRequestsCache"
   ]
  },
  {
   "cell_type": "code",
   "execution_count": 3,
   "metadata": {},
   "outputs": [
    {
     "name": "stderr",
     "output_type": "stream",
     "text": [
      "[nltk_data] Downloading package wordnet to /home/genstor/nltk_data...\n",
      "[nltk_data]   Package wordnet is already up-to-date!\n"
     ]
    }
   ],
   "source": [
    "from nlp_utils import TfIdfScores"
   ]
  },
  {
   "cell_type": "code",
   "execution_count": 4,
   "metadata": {},
   "outputs": [],
   "source": [
    "import numpy as np"
   ]
  },
  {
   "cell_type": "code",
   "execution_count": 5,
   "metadata": {},
   "outputs": [
    {
     "name": "stdout",
     "output_type": "stream",
     "text": [
      "Enabling requests_cache\n"
     ]
    }
   ],
   "source": [
    "InstallRequestsCache()"
   ]
  },
  {
   "cell_type": "code",
   "execution_count": 6,
   "metadata": {},
   "outputs": [
    {
     "name": "stdout",
     "output_type": "stream",
     "text": [
      "newsapi.get_top_headlines(category= business , page=1 country=in , page_size= 100 )\n",
      "newsapi.get_top_headlines(category= business , page=1 country=us , page_size= 100 )\n",
      "newsapi.get_top_headlines(category= business , page=1 country=gb , page_size= 100 )\n",
      "newsapi.get_top_headlines(category= business , page=1 country=au , page_size= 100 )\n",
      "newsapi.get_top_headlines(category= business , page=1 country=ca , page_size= 100 )\n",
      "newsapi.get_top_headlines(category= business , page=1 country=nz , page_size= 100 )\n",
      "newsapi.get_top_headlines(category= entertainment , page=1 country=in , page_size= 100 )\n",
      "newsapi.get_top_headlines(category= entertainment , page=1 country=us , page_size= 100 )\n",
      "newsapi.get_top_headlines(category= entertainment , page=1 country=gb , page_size= 100 )\n",
      "newsapi.get_top_headlines(category= entertainment , page=1 country=au , page_size= 100 )\n",
      "newsapi.get_top_headlines(category= entertainment , page=1 country=ca , page_size= 100 )\n",
      "newsapi.get_top_headlines(category= entertainment , page=1 country=nz , page_size= 100 )\n",
      "newsapi.get_top_headlines(category= science , page=1 country=in , page_size= 100 )\n",
      "newsapi.get_top_headlines(category= science , page=1 country=us , page_size= 100 )\n",
      "newsapi.get_top_headlines(category= science , page=1 country=gb , page_size= 100 )\n",
      "newsapi.get_top_headlines(category= science , page=1 country=au , page_size= 100 )\n",
      "newsapi.get_top_headlines(category= science , page=1 country=ca , page_size= 100 )\n",
      "newsapi.get_top_headlines(category= science , page=1 country=nz , page_size= 100 )\n",
      "newsapi.get_top_headlines(category= general , page=1 country=in , page_size= 100 )\n",
      "newsapi.get_top_headlines(category= general , page=1 country=us , page_size= 100 )\n",
      "newsapi.get_top_headlines(category= general , page=1 country=gb , page_size= 100 )\n",
      "newsapi.get_top_headlines(category= general , page=1 country=au , page_size= 100 )\n",
      "newsapi.get_top_headlines(category= general , page=1 country=ca , page_size= 100 )\n",
      "newsapi.get_top_headlines(category= general , page=1 country=nz , page_size= 100 )\n",
      "newsapi.get_top_headlines(category= technology , page=1 country=in , page_size= 100 )\n",
      "newsapi.get_top_headlines(category= technology , page=1 country=us , page_size= 100 )\n",
      "newsapi.get_top_headlines(category= technology , page=1 country=gb , page_size= 100 )\n",
      "newsapi.get_top_headlines(category= technology , page=1 country=au , page_size= 100 )\n",
      "newsapi.get_top_headlines(category= technology , page=1 country=ca , page_size= 100 )\n",
      "newsapi.get_top_headlines(category= technology , page=1 country=nz , page_size= 100 )\n",
      "newsapi.get_top_headlines(category= health , page=1 country=in , page_size= 100 )\n",
      "newsapi.get_top_headlines(category= health , page=1 country=us , page_size= 100 )\n",
      "newsapi.get_top_headlines(category= health , page=1 country=gb , page_size= 100 )\n",
      "newsapi.get_top_headlines(category= health , page=1 country=au , page_size= 100 )\n",
      "newsapi.get_top_headlines(category= health , page=1 country=ca , page_size= 100 )\n",
      "newsapi.get_top_headlines(category= health , page=1 country=nz , page_size= 100 )\n",
      "newsapi.get_top_headlines(category= sports , page=1 country=in , page_size= 100 )\n",
      "newsapi.get_top_headlines(category= sports , page=1 country=us , page_size= 100 )\n",
      "newsapi.get_top_headlines(category= sports , page=1 country=gb , page_size= 100 )\n",
      "newsapi.get_top_headlines(category= sports , page=1 country=au , page_size= 100 )\n",
      "newsapi.get_top_headlines(category= sports , page=1 country=ca , page_size= 100 )\n",
      "newsapi.get_top_headlines(category= sports , page=1 country=nz , page_size= 100 )\n",
      "business 365\n",
      "entertainment 392\n",
      "science 297\n",
      "general 228\n",
      "technology 420\n",
      "health 360\n",
      "sports 392\n"
     ]
    }
   ],
   "source": [
    "# Init newsapi\n",
    "newsapi = GetNewsApiClient()\n",
    "\n",
    "news = FetchNews(newsapi)"
   ]
  },
  {
   "cell_type": "code",
   "execution_count": 7,
   "metadata": {},
   "outputs": [
    {
     "name": "stdout",
     "output_type": "stream",
     "text": [
      "extracted_news[1] epfo focu on subscrib conveni eas do biz digit tool in 2020 moneycontrolcom employe provid fund organis epfo undertak sever digit initi includ onlin univers account number uan gener facil subscrib einspect system employ retir fund bodi epfo set focu on improv eas live worker subscrib eas do busi employ in 2020 mainli digit tool in it pursuit becom paperless organis eventu employe provid …  country_in category_business\n",
      "tf.get_feature_names() ['2019', '2020', 'accord', 'australia', 'best', 'category_business', 'category_entertainment', 'category_general', 'category_health', 'category_science', 'category_sports', 'category_technology', 'come', 'compani', 'country_au', 'country_ca', 'country_gb', 'country_in', 'country_nz', 'country_us', 'day', 'decad', 'game', 'ha', 'health', 'hi', 'india', 'know', 'like', 'look', 'make', 'monday', 'new', 'peopl', 'report', 'research', 'reveal', 'say', 'season', 'share', 'space', 'star', 'test', 'time', 'use', 'wa', 'way', 'work', 'world', 'year']\n"
     ]
    }
   ],
   "source": [
    "newsf, _ = TfIdfScores(news)"
   ]
  }
 ],
 "metadata": {
  "kernelspec": {
   "display_name": "Python 3",
   "language": "python",
   "name": "python3"
  },
  "language_info": {
   "codemirror_mode": {
    "name": "ipython",
    "version": 3
   },
   "file_extension": ".py",
   "mimetype": "text/x-python",
   "name": "python",
   "nbconvert_exporter": "python",
   "pygments_lexer": "ipython3",
   "version": "3.6.8"
  }
 },
 "nbformat": 4,
 "nbformat_minor": 2
}
